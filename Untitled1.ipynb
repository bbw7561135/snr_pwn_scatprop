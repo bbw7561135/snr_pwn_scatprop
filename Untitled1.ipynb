{
 "cells": [
  {
   "cell_type": "code",
   "execution_count": 49,
   "metadata": {
    "collapsed": true
   },
   "outputs": [],
   "source": []
  },
  {
   "cell_type": "code",
   "execution_count": 50,
   "metadata": {
    "collapsed": true
   },
   "outputs": [],
   "source": [
    "def (x, mu, sig, A, N):\n",
    "    return (x)((3.*mu)/(4.*np.pi*(sig**3)*A*N))"
   ]
  },
  {
   "cell_type": "code",
   "execution_count": 51,
   "metadata": {
    "collapsed": true
   },
   "outputs": [],
   "source": [
    "def normalization_avg(sigma_1, sigma_2):\n",
    "    return (((sigma_1/sigma_2)+(sigma_2/sigma_1))/2.)\n",
    "#    return ((sigma_1/sigma_2))*(((sigma_1/sigma_2)+(sigma_2/sigma_1))/2.)\n",
    "\n",
    "\n",
    "def normalization(sigma_1, sigma_2):\n",
    "    return ((sigma_1/sigma_2))"
   ]
  },
  {
   "cell_type": "code",
   "execution_count": 52,
   "metadata": {},
   "outputs": [
    {
     "ename": "TypeError",
     "evalue": "'numpy.ndarray' object is not callable",
     "output_type": "error",
     "traceback": [
      "\u001b[0;31m---------------------------------------------------------------------------\u001b[0m",
      "\u001b[0;31mTypeError\u001b[0m                                 Traceback (most recent call last)",
      "\u001b[0;32m<ipython-input-52-6eabec352b51>\u001b[0m in \u001b[0;36m<module>\u001b[0;34m()\u001b[0m\n\u001b[1;32m     16\u001b[0m \u001b[0;31m#print \"N = \", N\u001b[0m\u001b[0;34m\u001b[0m\u001b[0;34m\u001b[0m\u001b[0m\n\u001b[1;32m     17\u001b[0m \u001b[0;34m\u001b[0m\u001b[0m\n\u001b[0;32m---> 18\u001b[0;31m \u001b[0mgaus_l\u001b[0m \u001b[0;34m=\u001b[0m \u001b[0mgaussian\u001b[0m\u001b[0;34m(\u001b[0m\u001b[0mx_l\u001b[0m\u001b[0;34m,\u001b[0m \u001b[0mDM_c\u001b[0m\u001b[0;34m,\u001b[0m \u001b[0msigma_l\u001b[0m\u001b[0;34m,\u001b[0m \u001b[0mA_l\u001b[0m\u001b[0;34m,\u001b[0m \u001b[0mN\u001b[0m\u001b[0;34m)\u001b[0m\u001b[0;34m\u001b[0m\u001b[0m\n\u001b[0m\u001b[1;32m     19\u001b[0m \u001b[0mgaus_u\u001b[0m \u001b[0;34m=\u001b[0m \u001b[0mgaussian\u001b[0m\u001b[0;34m(\u001b[0m\u001b[0mx_u\u001b[0m\u001b[0;34m,\u001b[0m \u001b[0mDM_c\u001b[0m\u001b[0;34m,\u001b[0m \u001b[0msigma_u\u001b[0m\u001b[0;34m,\u001b[0m \u001b[0mA_u\u001b[0m\u001b[0;34m,\u001b[0m \u001b[0mN\u001b[0m\u001b[0;34m)\u001b[0m\u001b[0;34m\u001b[0m\u001b[0m\n\u001b[1;32m     20\u001b[0m \u001b[0;34m\u001b[0m\u001b[0m\n",
      "\u001b[0;32m<ipython-input-42-4f49ca020193>\u001b[0m in \u001b[0;36mgaussian\u001b[0;34m(x, mu, sig, A, N)\u001b[0m\n\u001b[1;32m      1\u001b[0m \u001b[0;32mdef\u001b[0m \u001b[0mgaussian\u001b[0m\u001b[0;34m(\u001b[0m\u001b[0mx\u001b[0m\u001b[0;34m,\u001b[0m \u001b[0mmu\u001b[0m\u001b[0;34m,\u001b[0m \u001b[0msig\u001b[0m\u001b[0;34m,\u001b[0m \u001b[0mA\u001b[0m\u001b[0;34m,\u001b[0m \u001b[0mN\u001b[0m\u001b[0;34m)\u001b[0m\u001b[0;34m:\u001b[0m\u001b[0;34m\u001b[0m\u001b[0m\n\u001b[0;32m----> 2\u001b[0;31m     \u001b[0;32mreturn\u001b[0m \u001b[0;34m(\u001b[0m\u001b[0mx\u001b[0m\u001b[0;34m)\u001b[0m\u001b[0;34m(\u001b[0m\u001b[0;34m(\u001b[0m\u001b[0;36m3.\u001b[0m\u001b[0;34m*\u001b[0m\u001b[0mmu\u001b[0m\u001b[0;34m)\u001b[0m\u001b[0;34m/\u001b[0m\u001b[0;34m(\u001b[0m\u001b[0;36m4.\u001b[0m\u001b[0;34m*\u001b[0m\u001b[0mnp\u001b[0m\u001b[0;34m.\u001b[0m\u001b[0mpi\u001b[0m\u001b[0;34m*\u001b[0m\u001b[0;34m(\u001b[0m\u001b[0msig\u001b[0m\u001b[0;34m**\u001b[0m\u001b[0;36m3\u001b[0m\u001b[0;34m)\u001b[0m\u001b[0;34m*\u001b[0m\u001b[0mA\u001b[0m\u001b[0;34m*\u001b[0m\u001b[0mN\u001b[0m\u001b[0;34m)\u001b[0m\u001b[0;34m)\u001b[0m\u001b[0;34m\u001b[0m\u001b[0m\n\u001b[0m",
      "\u001b[0;31mTypeError\u001b[0m: 'numpy.ndarray' object is not callable"
     ]
    }
   ],
   "source": [
    "sigma_u = 5.\n",
    "sigma_l = 10.\n",
    "DM_c = 20.\n",
    "\n",
    "x_l = np.arange(0,DM_c,0.0001)\n",
    "x_u = np.arange(DM_c, DM_c*2, 0.0001)\n",
    "\n",
    "\n",
    "A_l = normalization(sigma_l, sigma_u)   #normalization_avg(sigma_l,sigma_u) #* normalization(sigma_l, sigma_u) #put sigma in reverse order\n",
    "A_u = 1.#normalization(sigma_u, sigma_l)                                #normalization_avg(sigma_u,sigma_l) * normalization(sigma_u, sigma_l)\n",
    "#print \"A_l = \", A_l\n",
    "#print \"A_u = \", A_u\n",
    "\n",
    "N = 1/((A_l/2.)+(A_u/2.))\n",
    "#N = 1.\n",
    "#print \"N = \", N\n",
    "\n",
    "gaus_l = gaussian(x_l, DM_c, sigma_l, A_l, N)\n",
    "gaus_u = gaussian(x_u, DM_c, sigma_u, A_u, N)\n",
    "\n",
    "fig, ax = plt.subplots()\n",
    "ax.plot(x_l, gaus_l)\n",
    "ax.plot(x_u, gaus_u)\n",
    "ax.set_xlabel(\"DM\")\n",
    "ax.set_ylabel(\"Probability\")\n",
    "plt.show()"
   ]
  }
 ],
 "metadata": {
  "kernelspec": {
   "display_name": "Python 3",
   "language": "python",
   "name": "python3"
  },
  "language_info": {
   "codemirror_mode": {
    "name": "ipython",
    "version": 3
   },
   "file_extension": ".py",
   "mimetype": "text/x-python",
   "name": "python",
   "nbconvert_exporter": "python",
   "pygments_lexer": "ipython3",
   "version": "3.6.3"
  }
 },
 "nbformat": 4,
 "nbformat_minor": 2
}
