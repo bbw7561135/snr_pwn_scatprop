{
 "cells": [
  {
   "cell_type": "markdown",
   "metadata": {},
   "source": [
    "# Probability functions for HI errors and asymmetric error bars on data\n",
    "These are used in bayesian_analysis_pwn.ipynb which is used in Straal, Connor, & van Leeuwen 2017.\n",
    "\n",
    "Functions are defined together with Leon Oostrum."
   ]
  },
  {
   "cell_type": "code",
   "execution_count": 4,
   "metadata": {
    "collapsed": true
   },
   "outputs": [],
   "source": [
    "%matplotlib inline\n",
    "import matplotlib.pyplot as plt\n",
    "import seaborn as sns\n",
    "\n",
    "import numpy as np\n",
    "from scipy import stats\n",
    "\n",
    "import csv\n",
    "from scipy.optimize import curve_fit\n",
    "import pandas as pd\n",
    "import pylab as pl\n",
    "import matplotlib.patches as patches\n",
    "from matplotlib.path import Path\n",
    "import matplotlib as mpl\n",
    "\n",
    "# These defaults are the ones I like, but feel free to adapt or delete them\n",
    "sns.set_style('white')\n",
    "sns.set_context('talk')"
   ]
  },
  {
   "cell_type": "markdown",
   "metadata": {},
   "source": [
    "# Define probability functions"
   ]
  },
  {
   "cell_type": "code",
   "execution_count": 5,
   "metadata": {
    "collapsed": true
   },
   "outputs": [],
   "source": [
    "def gaussian(x, mu, sig, A, N):\n",
    "    return 1./(np.sqrt(2.*np.pi)*sig)*np.exp(-np.power((x - mu)/sig, 2.)/2) * A *N"
   ]
  },
  {
   "cell_type": "code",
   "execution_count": 6,
   "metadata": {
    "collapsed": true
   },
   "outputs": [],
   "source": [
    "def normalization_avg(sigma_1, sigma_2):\n",
    "    return (((sigma_1/sigma_2)+(sigma_2/sigma_1))/2.)\n",
    "#    return ((sigma_1/sigma_2))*(((sigma_1/sigma_2)+(sigma_2/sigma_1))/2.)\n",
    "\n",
    "\n",
    "def normalization(sigma_1, sigma_2):\n",
    "    return ((sigma_1/sigma_2))"
   ]
  },
  {
   "cell_type": "markdown",
   "metadata": {},
   "source": [
    "# Asymmetric Gaussian for asymmetric error bars"
   ]
  },
  {
   "cell_type": "code",
   "execution_count": 7,
   "metadata": {},
   "outputs": [
    {
     "data": {
      "image/png": "[encoded data removed]",
      "text/plain": [
       "<matplotlib.figure.Figure at 0x1a1189b208>"
      ]
     },
     "metadata": {},
     "output_type": "display_data"
    }
   ],
   "source": [
    "sigma_u = 5.\n",
    "sigma_l = 10.\n",
    "DM_c = 20.\n",
    "\n",
    "x_l = np.arange(-20,DM_c,0.0001)\n",
    "x_u = np.arange(DM_c, DM_c*2, 0.0001)\n",
    "\n",
    "\n",
    "A_l = normalization(sigma_l, sigma_u)   #normalization_avg(sigma_l,sigma_u) #* normalization(sigma_l, sigma_u) #put sigma in reverse order\n",
    "A_u = 1.#normalization(sigma_u, sigma_l)                                #normalization_avg(sigma_u,sigma_l) * normalization(sigma_u, sigma_l)\n",
    "#print \"A_l = \", A_l\n",
    "#print \"A_u = \", A_u\n",
    "\n",
    "N = 1/((A_l/2.)+(A_u/2.))\n",
    "#N = 1.\n",
    "#print \"N = \", N\n",
    "\n",
    "gaus_l = gaussian(x_l, DM_c, sigma_l, A_l, N)\n",
    "gaus_u = gaussian(x_u, DM_c, sigma_u, A_u, N)\n",
    "\n",
    "fig, ax = plt.subplots()\n",
    "ax.plot(x_l, gaus_l)\n",
    "ax.plot(x_u, gaus_u)\n",
    "ax.set_xlabel(\"DM\")\n",
    "ax.set_ylabel(\"Probability\")\n",
    "plt.show()"
   ]
  },
  {
   "cell_type": "markdown",
   "metadata": {},
   "source": [
    "## Check if this function is correctly normalized.\n",
    "Yes if the integral returns 1."
   ]
  },
  {
   "cell_type": "code",
   "execution_count": 8,
   "metadata": {},
   "outputs": [
    {
     "ename": "SyntaxError",
     "evalue": "Missing parentheses in call to 'print'. Did you mean print(\"I = \", I_l)? (<ipython-input-8-c7b7ae22c688>, line 5)",
     "output_type": "error",
     "traceback": [
      "\u001b[0;36m  File \u001b[0;32m\"<ipython-input-8-c7b7ae22c688>\"\u001b[0;36m, line \u001b[0;32m5\u001b[0m\n\u001b[0;31m    print \"I = \", I_l\u001b[0m\n\u001b[0m               ^\u001b[0m\n\u001b[0;31mSyntaxError\u001b[0m\u001b[0;31m:\u001b[0m Missing parentheses in call to 'print'. Did you mean print(\"I = \", I_l)?\n"
     ]
    }
   ],
   "source": [
    "import scipy.integrate as integrate\n",
    "from scipy.integrate import quad\n",
    "\n",
    "I_l = quad(gaussian, -np.inf, DM_c, args=(DM_c, sigma_l, A_l, N))\n",
    "print \"I = \", I_l\n",
    "I_u = quad(gaussian, DM_c, np.inf, args=(DM_c, sigma_u, A_u, N))\n",
    "print \"I = \", I_u\n",
    "\n",
    "I_tot = I_l[0] + I_u[0]\n",
    "print \"I_tot = \", I_tot"
   ]
  },
  {
   "cell_type": "markdown",
   "metadata": {},
   "source": [
    "# Error ranges with gaussian drop off --> Tophats with gaussian drop off"
   ]
  },
  {
   "cell_type": "code",
   "execution_count": null,
   "metadata": {
    "collapsed": true
   },
   "outputs": [],
   "source": [
    "def tophat(DM_l, DM_u, N):\n",
    "    return (1/(DM_u - DM_l))*N"
   ]
  },
  {
   "cell_type": "code",
   "execution_count": null,
   "metadata": {
    "collapsed": true
   },
   "outputs": [],
   "source": [
    "def normalization_tophat(DM_up, DM_low, sigma):\n",
    "    return (np.sqrt(2.*np.pi)*sigma)/(DM_up - DM_low)"
   ]
  },
  {
   "cell_type": "code",
   "execution_count": null,
   "metadata": {},
   "outputs": [],
   "source": [
    "DM_l = 10.\n",
    "DM_u = 30.\n",
    "sigma_l = 8.\n",
    "sigma_u = 15.\n",
    "\n",
    "x_l = np.arange(-20,DM_l,0.0001)\n",
    "x_c = np.arange(DM_l, DM_u, 0.0001)\n",
    "x_u = np.arange(DM_u, DM_u*3, 0.0001)\n",
    "\n",
    "A_l = normalization_tophat(DM_u, DM_l, sigma_l)\n",
    "A_u = normalization_tophat(DM_u, DM_l, sigma_u)\n",
    "N = 1/((A_l/2.)+(A_u/2.)+1)\n",
    "print \"N \", N\n",
    "\n",
    "gaus_l = gaussian(x_l, DM_l, sigma_l, A_l, N)\n",
    "gaus_u = gaussian(x_u, DM_u, sigma_u, A_u, N)\n",
    "box = np.array([tophat(DM_l, DM_u, N) for i in xrange(len(x_c))]) \n",
    "print \"tophat\", box\n",
    "\n",
    "fig, ax = plt.subplots()\n",
    "ax.plot(x_l, gaus_l)\n",
    "ax.plot(x_u, gaus_u)\n",
    "ax.plot(x_c, box)\n",
    "ax.set_xlabel(\"DM\")\n",
    "ax.set_ylabel(\"Probability\")\n",
    "plt.show()"
   ]
  },
  {
   "cell_type": "markdown",
   "metadata": {},
   "source": [
    "## Is this correctly normalized?\n",
    "Yes, if the integral returns 1."
   ]
  },
  {
   "cell_type": "code",
   "execution_count": null,
   "metadata": {
    "collapsed": true
   },
   "outputs": [],
   "source": [
    "def integrand(x,b):\n",
    "    return x + b"
   ]
  },
  {
   "cell_type": "code",
   "execution_count": null,
   "metadata": {},
   "outputs": [],
   "source": [
    "I_l = quad(gaussian, -np.inf, DM_l, args=(DM_l, sigma_l, A_l, N))\n",
    "print \"I = \", I_l\n",
    "I_u = quad(gaussian, DM_u, np.inf, args=(DM_u, sigma_u, A_u, N))\n",
    "print \"I = \", I_u\n",
    "surface = box[0] *(DM_u-DM_l)\n",
    "print \"I = \", surface\n",
    "\n",
    "I_tot = I_l[0] + I_u[0] + surface\n",
    "print \"I_tot = \", I_tot"
   ]
  }
 ],
 "metadata": {
  "anaconda-cloud": {},
  "kernelspec": {
   "display_name": "Python 3",
   "language": "python",
   "name": "python3"
  },
  "language_info": {
   "codemirror_mode": {
    "name": "ipython",
    "version": 3
   },
   "file_extension": ".py",
   "mimetype": "text/x-python",
   "name": "python",
   "nbconvert_exporter": "python",
   "pygments_lexer": "ipython3",
   "version": "3.6.3"
  }
 },
 "nbformat": 4,
 "nbformat_minor": 1
}
